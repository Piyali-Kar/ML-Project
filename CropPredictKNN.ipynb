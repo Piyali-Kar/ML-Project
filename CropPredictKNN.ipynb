{
 "cells": [
  {
   "cell_type": "code",
   "execution_count": 1,
   "id": "4c430acb",
   "metadata": {},
   "outputs": [],
   "source": [
    "import pandas as pd\n",
    "import numpy as np\n",
    "import matplotlib.pyplot as plt\n",
    "import seaborn as sns"
   ]
  },
  {
   "cell_type": "code",
   "execution_count": 3,
   "id": "9a56ed9b",
   "metadata": {},
   "outputs": [
    {
     "data": {
      "text/html": [
       "<div>\n",
       "<style scoped>\n",
       "    .dataframe tbody tr th:only-of-type {\n",
       "        vertical-align: middle;\n",
       "    }\n",
       "\n",
       "    .dataframe tbody tr th {\n",
       "        vertical-align: top;\n",
       "    }\n",
       "\n",
       "    .dataframe thead th {\n",
       "        text-align: right;\n",
       "    }\n",
       "</style>\n",
       "<table border=\"1\" class=\"dataframe\">\n",
       "  <thead>\n",
       "    <tr style=\"text-align: right;\">\n",
       "      <th></th>\n",
       "      <th>N</th>\n",
       "      <th>P</th>\n",
       "      <th>K</th>\n",
       "      <th>temperature</th>\n",
       "      <th>humidity</th>\n",
       "      <th>ph</th>\n",
       "      <th>rainfall</th>\n",
       "      <th>label</th>\n",
       "    </tr>\n",
       "  </thead>\n",
       "  <tbody>\n",
       "    <tr>\n",
       "      <th>0</th>\n",
       "      <td>90</td>\n",
       "      <td>42</td>\n",
       "      <td>43</td>\n",
       "      <td>20.879744</td>\n",
       "      <td>82.002744</td>\n",
       "      <td>6.502985</td>\n",
       "      <td>202.935536</td>\n",
       "      <td>0</td>\n",
       "    </tr>\n",
       "    <tr>\n",
       "      <th>1</th>\n",
       "      <td>75</td>\n",
       "      <td>49</td>\n",
       "      <td>15</td>\n",
       "      <td>21.535741</td>\n",
       "      <td>71.509060</td>\n",
       "      <td>5.918264</td>\n",
       "      <td>102.485293</td>\n",
       "      <td>1</td>\n",
       "    </tr>\n",
       "    <tr>\n",
       "      <th>2</th>\n",
       "      <td>91</td>\n",
       "      <td>50</td>\n",
       "      <td>40</td>\n",
       "      <td>20.824771</td>\n",
       "      <td>84.134188</td>\n",
       "      <td>6.462392</td>\n",
       "      <td>230.224222</td>\n",
       "      <td>0</td>\n",
       "    </tr>\n",
       "    <tr>\n",
       "      <th>3</th>\n",
       "      <td>67</td>\n",
       "      <td>60</td>\n",
       "      <td>25</td>\n",
       "      <td>24.921622</td>\n",
       "      <td>66.786274</td>\n",
       "      <td>5.750255</td>\n",
       "      <td>109.216228</td>\n",
       "      <td>1</td>\n",
       "    </tr>\n",
       "    <tr>\n",
       "      <th>4</th>\n",
       "      <td>60</td>\n",
       "      <td>51</td>\n",
       "      <td>36</td>\n",
       "      <td>22.696578</td>\n",
       "      <td>82.810889</td>\n",
       "      <td>6.028322</td>\n",
       "      <td>256.996476</td>\n",
       "      <td>0</td>\n",
       "    </tr>\n",
       "    <tr>\n",
       "      <th>...</th>\n",
       "      <td>...</td>\n",
       "      <td>...</td>\n",
       "      <td>...</td>\n",
       "      <td>...</td>\n",
       "      <td>...</td>\n",
       "      <td>...</td>\n",
       "      <td>...</td>\n",
       "      <td>...</td>\n",
       "    </tr>\n",
       "    <tr>\n",
       "      <th>193</th>\n",
       "      <td>73</td>\n",
       "      <td>35</td>\n",
       "      <td>38</td>\n",
       "      <td>24.889212</td>\n",
       "      <td>81.979271</td>\n",
       "      <td>5.005307</td>\n",
       "      <td>185.946143</td>\n",
       "      <td>0</td>\n",
       "    </tr>\n",
       "    <tr>\n",
       "      <th>194</th>\n",
       "      <td>73</td>\n",
       "      <td>45</td>\n",
       "      <td>21</td>\n",
       "      <td>24.605322</td>\n",
       "      <td>73.588685</td>\n",
       "      <td>6.636803</td>\n",
       "      <td>96.591953</td>\n",
       "      <td>1</td>\n",
       "    </tr>\n",
       "    <tr>\n",
       "      <th>195</th>\n",
       "      <td>84</td>\n",
       "      <td>50</td>\n",
       "      <td>44</td>\n",
       "      <td>25.485920</td>\n",
       "      <td>81.406335</td>\n",
       "      <td>5.935344</td>\n",
       "      <td>182.654936</td>\n",
       "      <td>0</td>\n",
       "    </tr>\n",
       "    <tr>\n",
       "      <th>196</th>\n",
       "      <td>98</td>\n",
       "      <td>47</td>\n",
       "      <td>37</td>\n",
       "      <td>23.483813</td>\n",
       "      <td>81.332651</td>\n",
       "      <td>7.375483</td>\n",
       "      <td>224.058116</td>\n",
       "      <td>0</td>\n",
       "    </tr>\n",
       "    <tr>\n",
       "      <th>197</th>\n",
       "      <td>90</td>\n",
       "      <td>46</td>\n",
       "      <td>42</td>\n",
       "      <td>23.978982</td>\n",
       "      <td>81.450616</td>\n",
       "      <td>7.502834</td>\n",
       "      <td>250.083234</td>\n",
       "      <td>0</td>\n",
       "    </tr>\n",
       "  </tbody>\n",
       "</table>\n",
       "<p>198 rows × 8 columns</p>\n",
       "</div>"
      ],
      "text/plain": [
       "      N   P   K  temperature   humidity        ph    rainfall  label\n",
       "0    90  42  43    20.879744  82.002744  6.502985  202.935536      0\n",
       "1    75  49  15    21.535741  71.509060  5.918264  102.485293      1\n",
       "2    91  50  40    20.824771  84.134188  6.462392  230.224222      0\n",
       "3    67  60  25    24.921622  66.786274  5.750255  109.216228      1\n",
       "4    60  51  36    22.696578  82.810889  6.028322  256.996476      0\n",
       "..   ..  ..  ..          ...        ...       ...         ...    ...\n",
       "193  73  35  38    24.889212  81.979271  5.005307  185.946143      0\n",
       "194  73  45  21    24.605322  73.588685  6.636803   96.591953      1\n",
       "195  84  50  44    25.485920  81.406335  5.935344  182.654936      0\n",
       "196  98  47  37    23.483813  81.332651  7.375483  224.058116      0\n",
       "197  90  46  42    23.978982  81.450616  7.502834  250.083234      0\n",
       "\n",
       "[198 rows x 8 columns]"
      ]
     },
     "execution_count": 3,
     "metadata": {},
     "output_type": "execute_result"
    }
   ],
   "source": [
    "#import dataset\n",
    "data = pd.read_csv('Crop_Production.csv')\n",
    "data"
   ]
  },
  {
   "cell_type": "code",
   "execution_count": 4,
   "id": "90e90774",
   "metadata": {},
   "outputs": [
    {
     "data": {
      "text/html": [
       "<div>\n",
       "<style scoped>\n",
       "    .dataframe tbody tr th:only-of-type {\n",
       "        vertical-align: middle;\n",
       "    }\n",
       "\n",
       "    .dataframe tbody tr th {\n",
       "        vertical-align: top;\n",
       "    }\n",
       "\n",
       "    .dataframe thead th {\n",
       "        text-align: right;\n",
       "    }\n",
       "</style>\n",
       "<table border=\"1\" class=\"dataframe\">\n",
       "  <thead>\n",
       "    <tr style=\"text-align: right;\">\n",
       "      <th></th>\n",
       "      <th>N</th>\n",
       "      <th>P</th>\n",
       "      <th>K</th>\n",
       "      <th>temperature</th>\n",
       "      <th>humidity</th>\n",
       "      <th>ph</th>\n",
       "      <th>rainfall</th>\n",
       "    </tr>\n",
       "  </thead>\n",
       "  <tbody>\n",
       "    <tr>\n",
       "      <th>0</th>\n",
       "      <td>90</td>\n",
       "      <td>42</td>\n",
       "      <td>43</td>\n",
       "      <td>20.879744</td>\n",
       "      <td>82.002744</td>\n",
       "      <td>6.502985</td>\n",
       "      <td>202.935536</td>\n",
       "    </tr>\n",
       "    <tr>\n",
       "      <th>1</th>\n",
       "      <td>75</td>\n",
       "      <td>49</td>\n",
       "      <td>15</td>\n",
       "      <td>21.535741</td>\n",
       "      <td>71.509060</td>\n",
       "      <td>5.918264</td>\n",
       "      <td>102.485293</td>\n",
       "    </tr>\n",
       "    <tr>\n",
       "      <th>2</th>\n",
       "      <td>91</td>\n",
       "      <td>50</td>\n",
       "      <td>40</td>\n",
       "      <td>20.824771</td>\n",
       "      <td>84.134188</td>\n",
       "      <td>6.462392</td>\n",
       "      <td>230.224222</td>\n",
       "    </tr>\n",
       "    <tr>\n",
       "      <th>3</th>\n",
       "      <td>67</td>\n",
       "      <td>60</td>\n",
       "      <td>25</td>\n",
       "      <td>24.921622</td>\n",
       "      <td>66.786274</td>\n",
       "      <td>5.750255</td>\n",
       "      <td>109.216228</td>\n",
       "    </tr>\n",
       "    <tr>\n",
       "      <th>4</th>\n",
       "      <td>60</td>\n",
       "      <td>51</td>\n",
       "      <td>36</td>\n",
       "      <td>22.696578</td>\n",
       "      <td>82.810889</td>\n",
       "      <td>6.028322</td>\n",
       "      <td>256.996476</td>\n",
       "    </tr>\n",
       "  </tbody>\n",
       "</table>\n",
       "</div>"
      ],
      "text/plain": [
       "    N   P   K  temperature   humidity        ph    rainfall\n",
       "0  90  42  43    20.879744  82.002744  6.502985  202.935536\n",
       "1  75  49  15    21.535741  71.509060  5.918264  102.485293\n",
       "2  91  50  40    20.824771  84.134188  6.462392  230.224222\n",
       "3  67  60  25    24.921622  66.786274  5.750255  109.216228\n",
       "4  60  51  36    22.696578  82.810889  6.028322  256.996476"
      ]
     },
     "execution_count": 4,
     "metadata": {},
     "output_type": "execute_result"
    }
   ],
   "source": [
    "x = data.drop(['label'], axis=1)\n",
    "x.head()"
   ]
  },
  {
   "cell_type": "code",
   "execution_count": 5,
   "id": "ac7481c6",
   "metadata": {},
   "outputs": [
    {
     "data": {
      "text/plain": [
       "0      0\n",
       "1      1\n",
       "2      0\n",
       "3      1\n",
       "4      0\n",
       "      ..\n",
       "193    0\n",
       "194    1\n",
       "195    0\n",
       "196    0\n",
       "197    0\n",
       "Name: label, Length: 198, dtype: int64"
      ]
     },
     "execution_count": 5,
     "metadata": {},
     "output_type": "execute_result"
    }
   ],
   "source": [
    "y = data['label']\n",
    "y"
   ]
  },
  {
   "cell_type": "code",
   "execution_count": 6,
   "id": "e0bce038",
   "metadata": {},
   "outputs": [
    {
     "data": {
      "text/plain": [
       "array([[0.75      , 0.28      , 0.93333333, ..., 0.90007948, 0.52308439,\n",
       "        0.59806135],\n",
       "       [0.375     , 0.56      , 0.        , ..., 0.54660047, 0.31886251,\n",
       "        0.17583901],\n",
       "       [0.775     , 0.6       , 0.83333333, ..., 0.97187701, 0.5089065 ,\n",
       "        0.71276384],\n",
       "       ...,\n",
       "       [0.6       , 0.6       , 0.96666667, ..., 0.87998949, 0.32482814,\n",
       "        0.51281594],\n",
       "       [0.95      , 0.48      , 0.73333333, ..., 0.87750743, 0.82781595,\n",
       "        0.68684586],\n",
       "       [0.75      , 0.44      , 0.9       , ..., 0.88148108, 0.87229505,\n",
       "        0.79623719]])"
      ]
     },
     "execution_count": 6,
     "metadata": {},
     "output_type": "execute_result"
    }
   ],
   "source": [
    "#For Scaled value\n",
    "from sklearn.preprocessing import MinMaxScaler\n",
    "scaler = MinMaxScaler()\n",
    "x = scaler.fit_transform(x)\n",
    "x"
   ]
  },
  {
   "cell_type": "code",
   "execution_count": 7,
   "id": "67661b70",
   "metadata": {},
   "outputs": [
    {
     "data": {
      "text/plain": [
       "KNeighborsClassifier(n_neighbors=1)"
      ]
     },
     "execution_count": 7,
     "metadata": {},
     "output_type": "execute_result"
    }
   ],
   "source": [
    "#Splitting the dataset into training and testing\n",
    "from sklearn.model_selection import train_test_split\n",
    "from sklearn.neighbors import KNeighborsClassifier\n",
    "\n",
    "xtrain, xtest, ytrain, ytest = train_test_split(x, y, test_size=0.2, random_state = 1)\n",
    "knn = KNeighborsClassifier(n_neighbors= 1)\n",
    "knn.fit(xtrain, ytrain)"
   ]
  },
  {
   "cell_type": "code",
   "execution_count": 8,
   "id": "85bc5ae1",
   "metadata": {},
   "outputs": [
    {
     "data": {
      "text/plain": [
       "array([0, 0, 1, 1, 1, 0, 1, 0, 0, 0, 1, 1, 0, 1, 0, 0, 0, 0, 1, 0, 0, 1,\n",
       "       1, 1, 0, 1, 1, 1, 1, 1, 1, 1, 1, 1, 1, 0, 1, 1, 1, 1], dtype=int64)"
      ]
     },
     "execution_count": 8,
     "metadata": {},
     "output_type": "execute_result"
    }
   ],
   "source": [
    "ypred = knn.predict(xtest)\n",
    "ypred"
   ]
  },
  {
   "cell_type": "code",
   "execution_count": 9,
   "id": "ca597995",
   "metadata": {},
   "outputs": [
    {
     "data": {
      "text/plain": [
       "175    0\n",
       "40     0\n",
       "34     1\n",
       "90     1\n",
       "145    1\n",
       "182    0\n",
       "95     1\n",
       "4      0\n",
       "29     0\n",
       "167    0\n",
       "53     1\n",
       "18     1\n",
       "11     0\n",
       "161    1\n",
       "147    0\n",
       "117    0\n",
       "105    0\n",
       "35     0\n",
       "110    1\n",
       "58     0\n",
       "51     0\n",
       "16     1\n",
       "44     1\n",
       "93     1\n",
       "31     0\n",
       "184    1\n",
       "38     1\n",
       "28     1\n",
       "171    1\n",
       "27     1\n",
       "47     1\n",
       "164    1\n",
       "59     1\n",
       "143    1\n",
       "148    1\n",
       "122    0\n",
       "136    1\n",
       "176    1\n",
       "78     1\n",
       "118    1\n",
       "Name: label, dtype: int64"
      ]
     },
     "execution_count": 9,
     "metadata": {},
     "output_type": "execute_result"
    }
   ],
   "source": [
    "ytest"
   ]
  },
  {
   "cell_type": "code",
   "execution_count": 10,
   "id": "02aabe9b",
   "metadata": {},
   "outputs": [],
   "source": [
    "from sklearn.metrics import confusion_matrix, classification_report"
   ]
  },
  {
   "cell_type": "code",
   "execution_count": 11,
   "id": "77a368a5",
   "metadata": {},
   "outputs": [
    {
     "name": "stdout",
     "output_type": "stream",
     "text": [
      "[[15  0]\n",
      " [ 0 25]]\n",
      "              precision    recall  f1-score   support\n",
      "\n",
      "           0       1.00      1.00      1.00        15\n",
      "           1       1.00      1.00      1.00        25\n",
      "\n",
      "    accuracy                           1.00        40\n",
      "   macro avg       1.00      1.00      1.00        40\n",
      "weighted avg       1.00      1.00      1.00        40\n",
      "\n"
     ]
    }
   ],
   "source": [
    "#Final Report\n",
    "print(confusion_matrix(ytest,ypred))\n",
    "print(classification_report(ytest,ypred))"
   ]
  },
  {
   "cell_type": "code",
   "execution_count": 15,
   "id": "4a2c34e1",
   "metadata": {},
   "outputs": [
    {
     "data": {
      "text/plain": [
       "{'n_neighbors': 3}"
      ]
     },
     "execution_count": 15,
     "metadata": {},
     "output_type": "execute_result"
    }
   ],
   "source": [
    "#To get the best value for k using Grid search\n",
    "from sklearn.model_selection import GridSearchCV \n",
    "from sklearn import neighbors\n",
    "params = {'n_neighbors':[3,5,7,9]} \n",
    "knn = neighbors.KNeighborsRegressor() \n",
    "model = GridSearchCV(knn, params, cv=5) \n",
    "model.fit(xtrain,ytrain) \n",
    "model.best_params_"
   ]
  },
  {
   "cell_type": "code",
   "execution_count": 39,
   "id": "f9f9b665",
   "metadata": {},
   "outputs": [],
   "source": [
    "# Loop over K values\n",
    "\n",
    "neighbors = np.arange(1, 9)\n",
    "train_accuracy = np.empty(len(neighbors))\n",
    "test_accuracy = np.empty(len(neighbors))\n",
    "for i, k in enumerate(neighbors):\n",
    "     \n",
    "    # Compute training and test data accuracy\n",
    "    train_accuracy[i] = knn.score(xtrain, ytrain)\n",
    "    test_accuracy[i] = knn.score(xtest, ytest)"
   ]
  },
  {
   "cell_type": "code",
   "execution_count": 36,
   "id": "36f2021b",
   "metadata": {},
   "outputs": [
    {
     "data": {
      "image/png": "[encoded data removed]",
      "text/plain": [
       "<Figure size 432x288 with 1 Axes>"
      ]
     },
     "metadata": {
      "needs_background": "light"
     },
     "output_type": "display_data"
    }
   ],
   "source": [
    "# Generate plot\n",
    "plt.plot(neighbors, test_accuracy, label = 'Testing dataset Accuracy')\n",
    "plt.plot(neighbors, train_accuracy, label = 'Training dataset Accuracy')\n",
    " \n",
    "plt.legend()\n",
    "plt.xlabel('n_neighbors')\n",
    "plt.ylabel('Accuracy')\n",
    "plt.show()"
   ]
  },
  {
   "cell_type": "code",
   "execution_count": null,
   "id": "54273aaf",
   "metadata": {},
   "outputs": [],
   "source": []
  }
 ],
 "metadata": {
  "kernelspec": {
   "display_name": "Python 3 (ipykernel)",
   "language": "python",
   "name": "python3"
  },
  "language_info": {
   "codemirror_mode": {
    "name": "ipython",
    "version": 3
   },
   "file_extension": ".py",
   "mimetype": "text/x-python",
   "name": "python",
   "nbconvert_exporter": "python",
   "pygments_lexer": "ipython3",
   "version": "3.9.7"
  }
 },
 "nbformat": 4,
 "nbformat_minor": 5
}
