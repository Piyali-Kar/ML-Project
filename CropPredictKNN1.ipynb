{
  "nbformat": 4,
  "nbformat_minor": 0,
  "metadata": {
    "colab": {
      "provenance": []
    },
    "kernelspec": {
      "name": "python3",
      "display_name": "Python 3"
    },
    "language_info": {
      "name": "python"
    }
  },
  "cells": [
    {
      "cell_type": "code",
      "execution_count": 2,
      "metadata": {
        "colab": {
          "base_uri": "https://localhost:8080/"
        },
        "id": "_rXx1Z1jpOOW",
        "outputId": "da132eed-2d54-4157-fe86-5a5e55d6a487"
      },
      "outputs": [
        {
          "output_type": "stream",
          "name": "stdout",
          "text": [
            "[chickpea] => 0\n",
            "[kidneybeans] => 1\n",
            "New record =[39, 71, 84, 20.28155898, 16.39535215, 8.140825437, 82.52339655], Predicted Output: 0\n"
          ]
        }
      ],
      "source": [
        "from csv import reader\n",
        "from math import sqrt\n",
        "\n",
        "# Loading CSV file\n",
        "def load_csv(filename):\n",
        "\tCropDataset = list()\n",
        "\twith open(filename, 'r') as file:\n",
        "\t\tcsv_reader = reader(file)\n",
        "\t\tfor row in csv_reader:\n",
        "\t\t\tif not row:\n",
        "\t\t\t\tcontinue\n",
        "\t\t\tCropDataset.append(row)\n",
        "\treturn CropDataset\n",
        "\n",
        "# Convert string column to float\n",
        "def str_column_to_float(CropDataset, column):\n",
        "\tfor row in CropDataset:\n",
        "\t\trow[column] = float(row[column].strip())\n",
        "\n",
        "# Convert string column to integer\n",
        "def str_column_to_int(CropDataset, column):\n",
        "\tclass_values = [row[column] for row in CropDataset]\n",
        "\tunique = set(class_values)\n",
        "\tlookup = dict()\n",
        "\tfor i, value in enumerate(unique):\n",
        "\t\tlookup[value] = i\n",
        "\t\tprint('[%s] => %d' % (value, i))\n",
        "\tfor row in CropDataset:\n",
        "\t\trow[column] = lookup[row[column]]\n",
        "\treturn lookup\n",
        "\n",
        "# Finding min and max values for each column\n",
        "def dataset_minmax(CropDataset):\n",
        "\tminmax = list()\n",
        "\tfor i in range(len(CropDataset[0])):\n",
        "\t\tcol_values = [row[i] for row in CropDataset]\n",
        "\t\tvalue_min = min(col_values)\n",
        "\t\tvalue_max = max(col_values)\n",
        "\t\tminmax.append([value_min, value_max])\n",
        "\treturn minmax\n",
        "\n",
        "# Rescale dataset columns to the range 0-1\n",
        "def normalize_dataset(CropDataset, minmax):\n",
        "\tfor row in CropDataset:\n",
        "\t\tfor i in range(len(row)):\n",
        "\t\t\trow[i] = (row[i] - minmax[i][0]) / (minmax[i][1] - minmax[i][0])\n",
        "\n",
        "# Calculate the Euclidean distance between two vectors\n",
        "def euclidean_distance(row1, row2):\n",
        "\tdistance = 0.0\n",
        "\tfor i in range(len(row1)-1):\n",
        "\t\tdistance += (row1[i] - row2[i])**2\n",
        "\treturn sqrt(distance)\n",
        "\n",
        "# Locate the most similar neighbors\n",
        "def get_neighbors(train, test_row, num_neighbors):\n",
        "\tdistances = list()\n",
        "\tfor train_row in train:\n",
        "\t\tdist = euclidean_distance(test_row, train_row)\n",
        "\t\tdistances.append((train_row, dist))\n",
        "\tdistances.sort(key=lambda tup: tup[1])\n",
        "\tneighbors = list()\n",
        "\tfor i in range(num_neighbors):\n",
        "\t\tneighbors.append(distances[i][0])\n",
        "\treturn neighbors\n",
        "\n",
        "# Make a prediction with neighbors\n",
        "def predict_classification(train, test_row, num_neighbors):\n",
        "\tneighbors = get_neighbors(train, test_row, num_neighbors)\n",
        "\toutput_values = [row[-1] for row in neighbors]\n",
        "\tprediction = max(set(output_values), key=output_values.count)\n",
        "\treturn prediction\n",
        "\n",
        "\n",
        "filename = 'Crop_Predict.csv'\n",
        "CropDataset = load_csv(filename)\n",
        "for i in range(len(CropDataset[0])-1):\n",
        "\tstr_column_to_float(CropDataset, i)\n",
        " \n",
        "#Class column to integers\n",
        "str_column_to_int(CropDataset, len(CropDataset[0])-1)\n",
        "\n",
        "#Got the best k value = 3\n",
        "num_neighbors = 3\n",
        "\n",
        "# define a new record\n",
        "row = [39,71,84,20.28155898,16.39535215,8.140825437,82.52339655]\n",
        "# prediction\n",
        "label = predict_classification(CropDataset, row, num_neighbors)\n",
        "print('New record =%s, Predicted Output: %s' % (row, label))"
      ]
    }
  ]
}